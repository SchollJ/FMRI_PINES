{
  "cells": [
    {
      "cell_type": "raw",
      "metadata": {},
      "source": [
        "---\n",
        "title: \"Bids Conversion\"\n",
        "author: \"Anastasios Dadiotis\"\n",
        "editor: visual\n",
        "toc: true\n",
        "format:\n",
        "  html:\n",
        "    code-tools: true\n",
        "    self-contained: true\n",
        "---"
      ],
      "id": "904eb6bd"
    },
    {
      "cell_type": "markdown",
      "metadata": {},
      "source": [
        "# Introduction\n",
        "\n",
        "This document is a step-by-step guide on how to convert raw data from a study to [BIDS](https://bids.neuroimaging.io/) format.[^1] The tool that is used here is [HeuDiConv](https://neuroimaging-core-docs.readthedocs.io/en/latest/pages/heudiconv.html). The data used in this example is from the Tiger study and already downloaded from xnat (see - add link when right this thing). The data are in a dicom format. This is a 3 step procedure. Note that this procedure takes place to the crnl cluster. \n",
        "\n",
        "\n",
        "# Bids Conversion\n",
        "\n",
        "## Setup\n",
        "In this prelimanary step we setup and define our variables. Note from the code below, change the variable \"subject\" to the subject you are working on. \n",
        "\n",
        "\n",
        "\n",
        "```{bash}\n",
        "# Standard variable for the Tiger study\n",
        "WD=/crnldata/psyr2/Anastasios/Tiger_fmri\n",
        "my_study=Tiger\n",
        "session_name=S01\n",
        "\n",
        "subject=G02 # change this to the subject you are working on\n",
        "\n",
        "```\n",
        "\n",
        "\n",
        "\n",
        "\n",
        "\n",
        "\n",
        "\n",
        "\n",
        "\n",
        "\n",
        "\n",
        "\n",
        "[^1]: For an excellent tutorial for Bids conversion [see](https://sarenseeley.github.io/BIDS-fmriprep-MRIQC.html)."
      ],
      "id": "cf122b85"
    }
  ],
  "metadata": {
    "kernelspec": {
      "name": "python3",
      "language": "python",
      "display_name": "Python 3 (ipykernel)"
    }
  },
  "nbformat": 4,
  "nbformat_minor": 5
}